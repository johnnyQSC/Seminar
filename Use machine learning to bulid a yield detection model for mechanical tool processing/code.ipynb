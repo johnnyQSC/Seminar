{
 "cells": [
  {
   "cell_type": "markdown",
   "id": "46ccb709",
   "metadata": {
    "papermill": {
     "duration": 0.016737,
     "end_time": "2022-07-14T14:03:27.191731",
     "exception": false,
     "start_time": "2022-07-14T14:03:27.174994",
     "status": "completed"
    },
    "tags": []
   },
   "source": [
    "載入套件"
   ]
  },
  {
   "cell_type": "code",
   "execution_count": 271,
   "id": "687f3d76",
   "metadata": {
    "execution": {
     "iopub.execute_input": "2022-07-14T14:03:27.230004Z",
     "iopub.status.busy": "2022-07-14T14:03:27.229377Z",
     "iopub.status.idle": "2022-07-14T14:03:39.650105Z",
     "shell.execute_reply": "2022-07-14T14:03:39.649188Z"
    },
    "papermill": {
     "duration": 12.443126,
     "end_time": "2022-07-14T14:03:39.652801",
     "exception": false,
     "start_time": "2022-07-14T14:03:27.209675",
     "status": "completed"
    },
    "tags": []
   },
   "outputs": [],
   "source": [
    "import numpy as np\n",
    "import pandas as pd\n",
    "import matplotlib.pyplot as plt\n",
    "import seaborn as sns\n",
    "from matplotlib.cbook import boxplot_stats\n",
    "from scipy.stats import binom\n",
    "from sklearn.model_selection import train_test_split\n",
    "from sklearn.preprocessing import MinMaxScaler\n",
    "from sklearn.tree import DecisionTreeClassifier\n",
    "from sklearn.ensemble import RandomForestClassifier\n",
    "from sklearn.svm import SVC\n",
    "from xgboost import XGBClassifier\n",
    "from sklearn.metrics import classification_report, confusion_matrix"
   ]
  },
  {
   "cell_type": "markdown",
   "id": "828d1cbc",
   "metadata": {
    "papermill": {
     "duration": 0.01739,
     "end_time": "2022-07-14T14:03:39.687358",
     "exception": false,
     "start_time": "2022-07-14T14:03:39.669968",
     "status": "completed"
    },
    "tags": []
   },
   "source": [
    "載入資料集"
   ]
  },
  {
   "cell_type": "code",
   "execution_count": 272,
   "id": "18747a1d",
   "metadata": {
    "execution": {
     "iopub.execute_input": "2022-07-14T14:03:39.725033Z",
     "iopub.status.busy": "2022-07-14T14:03:39.724044Z",
     "iopub.status.idle": "2022-07-14T14:03:39.745079Z",
     "shell.execute_reply": "2022-07-14T14:03:39.744173Z"
    },
    "papermill": {
     "duration": 0.043855,
     "end_time": "2022-07-14T14:03:39.747723",
     "exception": false,
     "start_time": "2022-07-14T14:03:39.703868",
     "status": "completed"
    },
    "tags": []
   },
   "outputs": [
    {
     "data": {
      "text/html": [
       "<div>\n",
       "<style scoped>\n",
       "    .dataframe tbody tr th:only-of-type {\n",
       "        vertical-align: middle;\n",
       "    }\n",
       "\n",
       "    .dataframe tbody tr th {\n",
       "        vertical-align: top;\n",
       "    }\n",
       "\n",
       "    .dataframe thead th {\n",
       "        text-align: right;\n",
       "    }\n",
       "</style>\n",
       "<table border=\"1\" class=\"dataframe\">\n",
       "  <thead>\n",
       "    <tr style=\"text-align: right;\">\n",
       "      <th></th>\n",
       "      <th>Item_No</th>\n",
       "      <th>Length</th>\n",
       "      <th>Width</th>\n",
       "      <th>Height</th>\n",
       "      <th>Operator</th>\n",
       "    </tr>\n",
       "  </thead>\n",
       "  <tbody>\n",
       "    <tr>\n",
       "      <th>0</th>\n",
       "      <td>1</td>\n",
       "      <td>102.67</td>\n",
       "      <td>49.53</td>\n",
       "      <td>19.69</td>\n",
       "      <td>Op-1</td>\n",
       "    </tr>\n",
       "    <tr>\n",
       "      <th>1</th>\n",
       "      <td>2</td>\n",
       "      <td>102.50</td>\n",
       "      <td>51.42</td>\n",
       "      <td>19.63</td>\n",
       "      <td>Op-1</td>\n",
       "    </tr>\n",
       "    <tr>\n",
       "      <th>2</th>\n",
       "      <td>3</td>\n",
       "      <td>95.37</td>\n",
       "      <td>52.25</td>\n",
       "      <td>21.51</td>\n",
       "      <td>Op-1</td>\n",
       "    </tr>\n",
       "    <tr>\n",
       "      <th>3</th>\n",
       "      <td>4</td>\n",
       "      <td>94.77</td>\n",
       "      <td>49.24</td>\n",
       "      <td>18.60</td>\n",
       "      <td>Op-1</td>\n",
       "    </tr>\n",
       "    <tr>\n",
       "      <th>4</th>\n",
       "      <td>5</td>\n",
       "      <td>104.26</td>\n",
       "      <td>47.90</td>\n",
       "      <td>19.46</td>\n",
       "      <td>Op-1</td>\n",
       "    </tr>\n",
       "  </tbody>\n",
       "</table>\n",
       "</div>"
      ],
      "text/plain": [
       "   Item_No  Length  Width  Height Operator\n",
       "0        1  102.67  49.53   19.69     Op-1\n",
       "1        2  102.50  51.42   19.63     Op-1\n",
       "2        3   95.37  52.25   21.51     Op-1\n",
       "3        4   94.77  49.24   18.60     Op-1\n",
       "4        5  104.26  47.90   19.46     Op-1"
      ]
     },
     "execution_count": 272,
     "metadata": {},
     "output_type": "execute_result"
    }
   ],
   "source": [
    "df = pd.read_csv('analysis.csv')\n",
    "df.head()"
   ]
  },
  {
   "cell_type": "code",
   "execution_count": 273,
   "id": "860f6f7c",
   "metadata": {
    "execution": {
     "iopub.execute_input": "2022-07-14T14:03:39.849515Z",
     "iopub.status.busy": "2022-07-14T14:03:39.848714Z",
     "iopub.status.idle": "2022-07-14T14:03:39.873942Z",
     "shell.execute_reply": "2022-07-14T14:03:39.872937Z"
    },
    "papermill": {
     "duration": 0.046471,
     "end_time": "2022-07-14T14:03:39.876706",
     "exception": false,
     "start_time": "2022-07-14T14:03:39.830235",
     "status": "completed"
    },
    "tags": []
   },
   "outputs": [
    {
     "name": "stdout",
     "output_type": "stream",
     "text": [
      "<class 'pandas.core.frame.DataFrame'>\n",
      "RangeIndex: 500 entries, 0 to 499\n",
      "Data columns (total 5 columns):\n",
      " #   Column    Non-Null Count  Dtype  \n",
      "---  ------    --------------  -----  \n",
      " 0   Item_No   500 non-null    int64  \n",
      " 1   Length    500 non-null    float64\n",
      " 2   Width     500 non-null    float64\n",
      " 3   Height    500 non-null    float64\n",
      " 4   Operator  500 non-null    object \n",
      "dtypes: float64(3), int64(1), object(1)\n",
      "memory usage: 19.7+ KB\n"
     ]
    }
   ],
   "source": [
    "df.info()"
   ]
  },
  {
   "cell_type": "code",
   "execution_count": 274,
   "id": "0027d507",
   "metadata": {
    "execution": {
     "iopub.execute_input": "2022-07-14T14:03:39.914732Z",
     "iopub.status.busy": "2022-07-14T14:03:39.913987Z",
     "iopub.status.idle": "2022-07-14T14:03:39.941328Z",
     "shell.execute_reply": "2022-07-14T14:03:39.940075Z"
    },
    "papermill": {
     "duration": 0.049053,
     "end_time": "2022-07-14T14:03:39.944053",
     "exception": false,
     "start_time": "2022-07-14T14:03:39.895000",
     "status": "completed"
    },
    "tags": []
   },
   "outputs": [
    {
     "data": {
      "text/html": [
       "<div>\n",
       "<style scoped>\n",
       "    .dataframe tbody tr th:only-of-type {\n",
       "        vertical-align: middle;\n",
       "    }\n",
       "\n",
       "    .dataframe tbody tr th {\n",
       "        vertical-align: top;\n",
       "    }\n",
       "\n",
       "    .dataframe thead th {\n",
       "        text-align: right;\n",
       "    }\n",
       "</style>\n",
       "<table border=\"1\" class=\"dataframe\">\n",
       "  <thead>\n",
       "    <tr style=\"text-align: right;\">\n",
       "      <th></th>\n",
       "      <th>Item_No</th>\n",
       "      <th>Length</th>\n",
       "      <th>Width</th>\n",
       "      <th>Height</th>\n",
       "    </tr>\n",
       "  </thead>\n",
       "  <tbody>\n",
       "    <tr>\n",
       "      <th>count</th>\n",
       "      <td>500.000000</td>\n",
       "      <td>500.000000</td>\n",
       "      <td>500.00000</td>\n",
       "      <td>500.000000</td>\n",
       "    </tr>\n",
       "    <tr>\n",
       "      <th>mean</th>\n",
       "      <td>250.500000</td>\n",
       "      <td>99.769140</td>\n",
       "      <td>49.93288</td>\n",
       "      <td>20.293220</td>\n",
       "    </tr>\n",
       "    <tr>\n",
       "      <th>std</th>\n",
       "      <td>144.481833</td>\n",
       "      <td>4.107471</td>\n",
       "      <td>2.11382</td>\n",
       "      <td>1.051718</td>\n",
       "    </tr>\n",
       "    <tr>\n",
       "      <th>min</th>\n",
       "      <td>1.000000</td>\n",
       "      <td>87.520000</td>\n",
       "      <td>42.74000</td>\n",
       "      <td>17.370000</td>\n",
       "    </tr>\n",
       "    <tr>\n",
       "      <th>25%</th>\n",
       "      <td>125.750000</td>\n",
       "      <td>96.835000</td>\n",
       "      <td>48.34000</td>\n",
       "      <td>19.475000</td>\n",
       "    </tr>\n",
       "    <tr>\n",
       "      <th>50%</th>\n",
       "      <td>250.500000</td>\n",
       "      <td>99.565000</td>\n",
       "      <td>49.82500</td>\n",
       "      <td>20.310000</td>\n",
       "    </tr>\n",
       "    <tr>\n",
       "      <th>75%</th>\n",
       "      <td>375.250000</td>\n",
       "      <td>102.035000</td>\n",
       "      <td>51.46250</td>\n",
       "      <td>21.142500</td>\n",
       "    </tr>\n",
       "    <tr>\n",
       "      <th>max</th>\n",
       "      <td>500.000000</td>\n",
       "      <td>116.600000</td>\n",
       "      <td>58.26000</td>\n",
       "      <td>23.390000</td>\n",
       "    </tr>\n",
       "  </tbody>\n",
       "</table>\n",
       "</div>"
      ],
      "text/plain": [
       "          Item_No      Length      Width      Height\n",
       "count  500.000000  500.000000  500.00000  500.000000\n",
       "mean   250.500000   99.769140   49.93288   20.293220\n",
       "std    144.481833    4.107471    2.11382    1.051718\n",
       "min      1.000000   87.520000   42.74000   17.370000\n",
       "25%    125.750000   96.835000   48.34000   19.475000\n",
       "50%    250.500000   99.565000   49.82500   20.310000\n",
       "75%    375.250000  102.035000   51.46250   21.142500\n",
       "max    500.000000  116.600000   58.26000   23.390000"
      ]
     },
     "execution_count": 274,
     "metadata": {},
     "output_type": "execute_result"
    }
   ],
   "source": [
    "df.describe()"
   ]
  },
  {
   "cell_type": "code",
   "execution_count": 275,
   "id": "5bfcca32",
   "metadata": {
    "execution": {
     "iopub.execute_input": "2022-07-14T14:03:40.093711Z",
     "iopub.status.busy": "2022-07-14T14:03:40.093304Z",
     "iopub.status.idle": "2022-07-14T14:03:40.099349Z",
     "shell.execute_reply": "2022-07-14T14:03:40.098411Z"
    },
    "papermill": {
     "duration": 0.028519,
     "end_time": "2022-07-14T14:03:40.102440",
     "exception": false,
     "start_time": "2022-07-14T14:03:40.073921",
     "status": "completed"
    },
    "tags": []
   },
   "outputs": [],
   "source": [
    "df = df.drop('Item_No', axis=1)"
   ]
  },
  {
   "cell_type": "markdown",
   "id": "9e480490",
   "metadata": {
    "papermill": {
     "duration": 0.017602,
     "end_time": "2022-07-14T14:03:40.303860",
     "exception": false,
     "start_time": "2022-07-14T14:03:40.286258",
     "status": "completed"
    },
    "tags": []
   },
   "source": [
    "探索性資料分析"
   ]
  },
  {
   "cell_type": "code",
   "execution_count": 276,
   "id": "3750c098",
   "metadata": {
    "execution": {
     "iopub.execute_input": "2022-07-14T14:03:40.423419Z",
     "iopub.status.busy": "2022-07-14T14:03:40.422441Z",
     "iopub.status.idle": "2022-07-14T14:03:40.820904Z",
     "shell.execute_reply": "2022-07-14T14:03:40.819821Z"
    },
    "papermill": {
     "duration": 0.421388,
     "end_time": "2022-07-14T14:03:40.823408",
     "exception": false,
     "start_time": "2022-07-14T14:03:40.402020",
     "status": "completed"
    },
    "tags": []
   },
   "outputs": [
    {
     "data": {
      "text/plain": [
       "<AxesSubplot:xlabel='Operator', ylabel='count'>"
      ]
     },
     "execution_count": 276,
     "metadata": {},
     "output_type": "execute_result"
    },
    {
     "data": {
      "image/png": "[encoded data removed]",
      "text/plain": [
       "<Figure size 864x288 with 1 Axes>"
      ]
     },
     "metadata": {},
     "output_type": "display_data"
    }
   ],
   "source": [
    "plt.figure(figsize=(12,4))\n",
    "sns.set_theme(style=\"whitegrid\")\n",
    "sns.countplot(data=df, x='Operator', order=df['Operator'].value_counts().index[::-1])"
   ]
  },
  {
   "cell_type": "code",
   "execution_count": 277,
   "id": "68cd5b92",
   "metadata": {
    "execution": {
     "iopub.execute_input": "2022-07-14T14:03:40.897588Z",
     "iopub.status.busy": "2022-07-14T14:03:40.896814Z",
     "iopub.status.idle": "2022-07-14T14:03:41.282350Z",
     "shell.execute_reply": "2022-07-14T14:03:41.281249Z"
    },
    "papermill": {
     "duration": 0.407614,
     "end_time": "2022-07-14T14:03:41.284936",
     "exception": false,
     "start_time": "2022-07-14T14:03:40.877322",
     "status": "completed"
    },
    "tags": []
   },
   "outputs": [
    {
     "data": {
      "image/png": "[encoded data removed]",
      "text/plain": [
       "<Figure size 576x288 with 3 Axes>"
      ]
     },
     "metadata": {},
     "output_type": "display_data"
    }
   ],
   "source": [
    "fig, axes = plt.subplots(nrows=1, ncols=3, figsize=(8,4))\n",
    "sns.boxplot(data=df, y=df['Length'], ax=axes[0])\n",
    "sns.boxplot(data=df, y=df['Width'], ax=axes[1])\n",
    "sns.boxplot(data=df, y=df['Height'], ax=axes[2])\n",
    "fig.tight_layout()"
   ]
  },
  {
   "cell_type": "code",
   "execution_count": 278,
   "id": "4e9726f7",
   "metadata": {
    "execution": {
     "iopub.execute_input": "2022-07-14T14:03:41.323506Z",
     "iopub.status.busy": "2022-07-14T14:03:41.322711Z",
     "iopub.status.idle": "2022-07-14T14:03:42.165161Z",
     "shell.execute_reply": "2022-07-14T14:03:42.163761Z"
    },
    "papermill": {
     "duration": 0.865016,
     "end_time": "2022-07-14T14:03:42.167884",
     "exception": false,
     "start_time": "2022-07-14T14:03:41.302868",
     "status": "completed"
    },
    "tags": []
   },
   "outputs": [
    {
     "data": {
      "image/png": "[encoded data removed]",
      "text/plain": [
       "<Figure size 864x288 with 3 Axes>"
      ]
     },
     "metadata": {},
     "output_type": "display_data"
    }
   ],
   "source": [
    "sns.set_theme(style=\"whitegrid\")\n",
    "fig, axes = plt.subplots(nrows=1, ncols=3, figsize=(12,4))\n",
    "sns.histplot(data=df, x=df['Length'], kde=True, ax=axes[0])\n",
    "sns.histplot(data=df, x=df['Width'], kde=True, ax=axes[1])\n",
    "sns.histplot(data=df, x=df['Height'], kde=True, ax=axes[2])\n",
    "fig.tight_layout()"
   ]
  },
  {
   "cell_type": "markdown",
   "id": "187a805d",
   "metadata": {
    "papermill": {
     "duration": 0.018535,
     "end_time": "2022-07-14T14:03:42.205713",
     "exception": false,
     "start_time": "2022-07-14T14:03:42.187178",
     "status": "completed"
    },
    "tags": []
   },
   "source": [
    "將盒鬚圖中的異常值設為“有缺陷的”\n",
    "下鬚線位於Q1 - whis x (Q3-Q1)之上的最低基準，而上鬚線位於 Q3 + whis x (Q3-Q1) 之下的最高基準處。"
   ]
  },
  {
   "cell_type": "code",
   "execution_count": 279,
   "id": "b0f5bad0",
   "metadata": {
    "execution": {
     "iopub.execute_input": "2022-07-14T14:03:42.246295Z",
     "iopub.status.busy": "2022-07-14T14:03:42.245576Z",
     "iopub.status.idle": "2022-07-14T14:03:42.250066Z",
     "shell.execute_reply": "2022-07-14T14:03:42.249311Z"
    },
    "papermill": {
     "duration": 0.027633,
     "end_time": "2022-07-14T14:03:42.252047",
     "exception": false,
     "start_time": "2022-07-14T14:03:42.224414",
     "status": "completed"
    },
    "tags": []
   },
   "outputs": [],
   "source": [
    "feat = ['Length','Width','Height']"
   ]
  },
  {
   "cell_type": "code",
   "execution_count": 280,
   "id": "fbce17fb",
   "metadata": {
    "execution": {
     "iopub.execute_input": "2022-07-14T14:03:42.293109Z",
     "iopub.status.busy": "2022-07-14T14:03:42.292042Z",
     "iopub.status.idle": "2022-07-14T14:03:42.303910Z",
     "shell.execute_reply": "2022-07-14T14:03:42.302502Z"
    },
    "papermill": {
     "duration": 0.035133,
     "end_time": "2022-07-14T14:03:42.306550",
     "exception": false,
     "start_time": "2022-07-14T14:03:42.271417",
     "status": "completed"
    },
    "tags": []
   },
   "outputs": [
    {
     "name": "stdout",
     "output_type": "stream",
     "text": [
      "Length\n",
      "mean                                               99.76914\n",
      "iqr                                                     5.2\n",
      "cilo                                              99.199895\n",
      "cihi                                              99.930105\n",
      "whishi                                               109.79\n",
      "whislo                                                89.82\n",
      "fliers    [87.52, 88.28, 110.54, 110.18, 110.72, 112.69,...\n",
      "q1                                                   96.835\n",
      "med                                                  99.565\n",
      "q3                                                  102.035\n",
      "dtype: object\n",
      "\n",
      "\n",
      "Width\n",
      "mean                          49.93288\n",
      "iqr                             3.1225\n",
      "cilo                         49.605761\n",
      "cihi                         50.044239\n",
      "whishi                           56.04\n",
      "whislo                            43.8\n",
      "fliers    [42.74, 57.26, 58.26, 56.26]\n",
      "q1                               48.34\n",
      "med                             49.825\n",
      "q3                             51.4625\n",
      "dtype: object\n",
      "\n",
      "\n",
      "Height\n",
      "mean       20.29322\n",
      "iqr          1.6675\n",
      "cilo      20.192921\n",
      "cihi      20.427079\n",
      "whishi        23.39\n",
      "whislo        17.37\n",
      "fliers           []\n",
      "q1           19.475\n",
      "med           20.31\n",
      "q3          21.1425\n",
      "dtype: object\n",
      "\n",
      "\n"
     ]
    }
   ],
   "source": [
    "for col in feat:\n",
    "    print(col)\n",
    "    print(pd.Series(boxplot_stats(df[col])[0]))\n",
    "    print('\\n')"
   ]
  },
  {
   "cell_type": "code",
   "execution_count": 281,
   "id": "10a1918b",
   "metadata": {
    "execution": {
     "iopub.execute_input": "2022-07-14T14:03:42.346839Z",
     "iopub.status.busy": "2022-07-14T14:03:42.346397Z",
     "iopub.status.idle": "2022-07-14T14:03:43.053288Z",
     "shell.execute_reply": "2022-07-14T14:03:43.051962Z"
    },
    "papermill": {
     "duration": 0.73061,
     "end_time": "2022-07-14T14:03:43.056094",
     "exception": false,
     "start_time": "2022-07-14T14:03:42.325484",
     "status": "completed"
    },
    "tags": []
   },
   "outputs": [
    {
     "data": {
      "text/html": [
       "<div>\n",
       "<style scoped>\n",
       "    .dataframe tbody tr th:only-of-type {\n",
       "        vertical-align: middle;\n",
       "    }\n",
       "\n",
       "    .dataframe tbody tr th {\n",
       "        vertical-align: top;\n",
       "    }\n",
       "\n",
       "    .dataframe thead th {\n",
       "        text-align: right;\n",
       "    }\n",
       "</style>\n",
       "<table border=\"1\" class=\"dataframe\">\n",
       "  <thead>\n",
       "    <tr style=\"text-align: right;\">\n",
       "      <th></th>\n",
       "      <th>Length</th>\n",
       "      <th>Width</th>\n",
       "      <th>Height</th>\n",
       "      <th>Operator</th>\n",
       "      <th>Status</th>\n",
       "    </tr>\n",
       "  </thead>\n",
       "  <tbody>\n",
       "    <tr>\n",
       "      <th>41</th>\n",
       "      <td>110.54</td>\n",
       "      <td>51.07</td>\n",
       "      <td>21.95</td>\n",
       "      <td>Op-2</td>\n",
       "      <td>Defective</td>\n",
       "    </tr>\n",
       "    <tr>\n",
       "      <th>56</th>\n",
       "      <td>110.18</td>\n",
       "      <td>51.89</td>\n",
       "      <td>21.36</td>\n",
       "      <td>Op-3</td>\n",
       "      <td>Defective</td>\n",
       "    </tr>\n",
       "    <tr>\n",
       "      <th>61</th>\n",
       "      <td>105.00</td>\n",
       "      <td>57.26</td>\n",
       "      <td>21.62</td>\n",
       "      <td>Op-3</td>\n",
       "      <td>Defective</td>\n",
       "    </tr>\n",
       "    <tr>\n",
       "      <th>63</th>\n",
       "      <td>110.72</td>\n",
       "      <td>52.54</td>\n",
       "      <td>21.06</td>\n",
       "      <td>Op-3</td>\n",
       "      <td>Defective</td>\n",
       "    </tr>\n",
       "    <tr>\n",
       "      <th>67</th>\n",
       "      <td>112.69</td>\n",
       "      <td>50.68</td>\n",
       "      <td>20.33</td>\n",
       "      <td>Op-3</td>\n",
       "      <td>Defective</td>\n",
       "    </tr>\n",
       "    <tr>\n",
       "      <th>68</th>\n",
       "      <td>111.83</td>\n",
       "      <td>53.31</td>\n",
       "      <td>20.12</td>\n",
       "      <td>Op-3</td>\n",
       "      <td>Defective</td>\n",
       "    </tr>\n",
       "    <tr>\n",
       "      <th>69</th>\n",
       "      <td>103.73</td>\n",
       "      <td>58.26</td>\n",
       "      <td>20.37</td>\n",
       "      <td>Op-3</td>\n",
       "      <td>Defective</td>\n",
       "    </tr>\n",
       "    <tr>\n",
       "      <th>71</th>\n",
       "      <td>109.87</td>\n",
       "      <td>52.23</td>\n",
       "      <td>20.94</td>\n",
       "      <td>Op-3</td>\n",
       "      <td>Defective</td>\n",
       "    </tr>\n",
       "    <tr>\n",
       "      <th>73</th>\n",
       "      <td>113.45</td>\n",
       "      <td>46.96</td>\n",
       "      <td>23.31</td>\n",
       "      <td>Op-3</td>\n",
       "      <td>Defective</td>\n",
       "    </tr>\n",
       "    <tr>\n",
       "      <th>85</th>\n",
       "      <td>104.22</td>\n",
       "      <td>42.74</td>\n",
       "      <td>19.05</td>\n",
       "      <td>Op-4</td>\n",
       "      <td>Defective</td>\n",
       "    </tr>\n",
       "    <tr>\n",
       "      <th>86</th>\n",
       "      <td>87.52</td>\n",
       "      <td>46.54</td>\n",
       "      <td>18.92</td>\n",
       "      <td>Op-4</td>\n",
       "      <td>Defective</td>\n",
       "    </tr>\n",
       "    <tr>\n",
       "      <th>93</th>\n",
       "      <td>88.28</td>\n",
       "      <td>45.58</td>\n",
       "      <td>18.64</td>\n",
       "      <td>Op-4</td>\n",
       "      <td>Defective</td>\n",
       "    </tr>\n",
       "    <tr>\n",
       "      <th>105</th>\n",
       "      <td>111.07</td>\n",
       "      <td>51.19</td>\n",
       "      <td>22.17</td>\n",
       "      <td>Op-5</td>\n",
       "      <td>Defective</td>\n",
       "    </tr>\n",
       "    <tr>\n",
       "      <th>120</th>\n",
       "      <td>110.71</td>\n",
       "      <td>52.01</td>\n",
       "      <td>21.58</td>\n",
       "      <td>Op-5</td>\n",
       "      <td>Defective</td>\n",
       "    </tr>\n",
       "    <tr>\n",
       "      <th>122</th>\n",
       "      <td>113.73</td>\n",
       "      <td>54.77</td>\n",
       "      <td>22.13</td>\n",
       "      <td>Op-5</td>\n",
       "      <td>Defective</td>\n",
       "    </tr>\n",
       "    <tr>\n",
       "      <th>125</th>\n",
       "      <td>106.63</td>\n",
       "      <td>56.26</td>\n",
       "      <td>21.42</td>\n",
       "      <td>Op-5</td>\n",
       "      <td>Defective</td>\n",
       "    </tr>\n",
       "    <tr>\n",
       "      <th>126</th>\n",
       "      <td>116.60</td>\n",
       "      <td>53.81</td>\n",
       "      <td>23.39</td>\n",
       "      <td>Op-5</td>\n",
       "      <td>Defective</td>\n",
       "    </tr>\n",
       "    <tr>\n",
       "      <th>127</th>\n",
       "      <td>115.28</td>\n",
       "      <td>47.98</td>\n",
       "      <td>21.49</td>\n",
       "      <td>Op-5</td>\n",
       "      <td>Defective</td>\n",
       "    </tr>\n",
       "    <tr>\n",
       "      <th>129</th>\n",
       "      <td>113.11</td>\n",
       "      <td>51.75</td>\n",
       "      <td>20.41</td>\n",
       "      <td>Op-5</td>\n",
       "      <td>Defective</td>\n",
       "    </tr>\n",
       "    <tr>\n",
       "      <th>130</th>\n",
       "      <td>112.59</td>\n",
       "      <td>51.29</td>\n",
       "      <td>20.64</td>\n",
       "      <td>Op-5</td>\n",
       "      <td>Defective</td>\n",
       "    </tr>\n",
       "  </tbody>\n",
       "</table>\n",
       "</div>"
      ],
      "text/plain": [
       "     Length  Width  Height Operator     Status\n",
       "41   110.54  51.07   21.95     Op-2  Defective\n",
       "56   110.18  51.89   21.36     Op-3  Defective\n",
       "61   105.00  57.26   21.62     Op-3  Defective\n",
       "63   110.72  52.54   21.06     Op-3  Defective\n",
       "67   112.69  50.68   20.33     Op-3  Defective\n",
       "68   111.83  53.31   20.12     Op-3  Defective\n",
       "69   103.73  58.26   20.37     Op-3  Defective\n",
       "71   109.87  52.23   20.94     Op-3  Defective\n",
       "73   113.45  46.96   23.31     Op-3  Defective\n",
       "85   104.22  42.74   19.05     Op-4  Defective\n",
       "86    87.52  46.54   18.92     Op-4  Defective\n",
       "93    88.28  45.58   18.64     Op-4  Defective\n",
       "105  111.07  51.19   22.17     Op-5  Defective\n",
       "120  110.71  52.01   21.58     Op-5  Defective\n",
       "122  113.73  54.77   22.13     Op-5  Defective\n",
       "125  106.63  56.26   21.42     Op-5  Defective\n",
       "126  116.60  53.81   23.39     Op-5  Defective\n",
       "127  115.28  47.98   21.49     Op-5  Defective\n",
       "129  113.11  51.75   20.41     Op-5  Defective\n",
       "130  112.59  51.29   20.64     Op-5  Defective"
      ]
     },
     "execution_count": 281,
     "metadata": {},
     "output_type": "execute_result"
    }
   ],
   "source": [
    "#從探索性資料分析的結果判別出不良品並標籤化\n",
    "def get_status(row):\n",
    "    for col in feat:\n",
    "        if (\n",
    "            (row[col] > boxplot_stats(df[col])[0]['whishi']) \n",
    "            or \n",
    "            (row[col] < boxplot_stats(df[col])[0]['whislo'])\n",
    "        ):\n",
    "            return 'Defective'\n",
    "    return 'Perfect'\n",
    "df['Status'] = df.apply(get_status,axis=1)\n",
    "df[df['Status']=='Defective']"
   ]
  },
  {
   "cell_type": "code",
   "execution_count": 282,
   "id": "c830e4fc",
   "metadata": {
    "execution": {
     "iopub.execute_input": "2022-07-14T14:03:43.161734Z",
     "iopub.status.busy": "2022-07-14T14:03:43.160888Z",
     "iopub.status.idle": "2022-07-14T14:03:43.170763Z",
     "shell.execute_reply": "2022-07-14T14:03:43.169508Z"
    },
    "papermill": {
     "duration": 0.033608,
     "end_time": "2022-07-14T14:03:43.173324",
     "exception": false,
     "start_time": "2022-07-14T14:03:43.139716",
     "status": "completed"
    },
    "tags": []
   },
   "outputs": [
    {
     "data": {
      "text/plain": [
       "Perfect      480\n",
       "Defective     20\n",
       "Name: Status, dtype: int64"
      ]
     },
     "execution_count": 282,
     "metadata": {},
     "output_type": "execute_result"
    }
   ],
   "source": [
    "df['Status'].value_counts()"
   ]
  },
  {
   "cell_type": "code",
   "execution_count": 283,
   "id": "5c1f6f17",
   "metadata": {
    "execution": {
     "iopub.execute_input": "2022-07-14T14:03:43.215070Z",
     "iopub.status.busy": "2022-07-14T14:03:43.214201Z",
     "iopub.status.idle": "2022-07-14T14:03:43.398224Z",
     "shell.execute_reply": "2022-07-14T14:03:43.396090Z"
    },
    "papermill": {
     "duration": 0.208472,
     "end_time": "2022-07-14T14:03:43.401169",
     "exception": false,
     "start_time": "2022-07-14T14:03:43.192697",
     "status": "completed"
    },
    "tags": []
   },
   "outputs": [
    {
     "data": {
      "text/plain": [
       "<AxesSubplot:xlabel='Status', ylabel='count'>"
      ]
     },
     "execution_count": 283,
     "metadata": {},
     "output_type": "execute_result"
    },
    {
     "data": {
      "image/png": "[encoded data removed]",
      "text/plain": [
       "<Figure size 432x288 with 1 Axes>"
      ]
     },
     "metadata": {},
     "output_type": "display_data"
    }
   ],
   "source": [
    "sns.countplot(data=df, x='Status')"
   ]
  },
  {
   "cell_type": "code",
   "execution_count": 284,
   "id": "953b2c38",
   "metadata": {
    "execution": {
     "iopub.execute_input": "2022-07-14T14:03:43.448354Z",
     "iopub.status.busy": "2022-07-14T14:03:43.447926Z",
     "iopub.status.idle": "2022-07-14T14:03:43.459625Z",
     "shell.execute_reply": "2022-07-14T14:03:43.458454Z"
    },
    "papermill": {
     "duration": 0.037983,
     "end_time": "2022-07-14T14:03:43.463698",
     "exception": false,
     "start_time": "2022-07-14T14:03:43.425715",
     "status": "completed"
    },
    "tags": []
   },
   "outputs": [
    {
     "name": "stdout",
     "output_type": "stream",
     "text": [
      "不良率: 4.0%\n",
      "良率:  96.0%\n"
     ]
    }
   ],
   "source": [
    "defective = 100*df[df['Status'] == 'Defective']['Status'].count() / df['Status'].count()\n",
    "perfect = 100*df[df['Status'] == 'Perfect']['Status'].count() / df['Status'].count()\n",
    "print(f'不良率: {defective}%')\n",
    "print(f'良率:  {perfect}%')"
   ]
  },
  {
   "cell_type": "code",
   "execution_count": 285,
   "id": "1c15ec3a",
   "metadata": {
    "execution": {
     "iopub.execute_input": "2022-07-14T14:03:43.545716Z",
     "iopub.status.busy": "2022-07-14T14:03:43.544745Z",
     "iopub.status.idle": "2022-07-14T14:03:43.765499Z",
     "shell.execute_reply": "2022-07-14T14:03:43.764279Z"
    },
    "papermill": {
     "duration": 0.244174,
     "end_time": "2022-07-14T14:03:43.767895",
     "exception": false,
     "start_time": "2022-07-14T14:03:43.523721",
     "status": "completed"
    },
    "tags": []
   },
   "outputs": [
    {
     "data": {
      "text/plain": [
       "<AxesSubplot:xlabel='Status', ylabel='count'>"
      ]
     },
     "execution_count": 285,
     "metadata": {},
     "output_type": "execute_result"
    },
    {
     "data": {
      "image/png": "[encoded data removed]",
      "text/plain": [
       "<Figure size 432x288 with 1 Axes>"
      ]
     },
     "metadata": {},
     "output_type": "display_data"
    }
   ],
   "source": [
    "#觀察產生不良率的作業員生產數量\n",
    "defective = df[df['Status'] == 'Defective']['Status']\n",
    "hue_op = df[df['Status'] == 'Defective']['Operator']\n",
    "sns.countplot(data=df, x=defective, hue=hue_op)"
   ]
  },
  {
   "cell_type": "markdown",
   "id": "97a20ab9",
   "metadata": {
    "papermill": {
     "duration": 0.019851,
     "end_time": "2022-07-14T14:03:43.807777",
     "exception": false,
     "start_time": "2022-07-14T14:03:43.787926",
     "status": "completed"
    },
    "tags": []
   },
   "source": [
    "可得出產品不良的出處在以上人員:Op-2, Op-3, Op-4 and Op-5"
   ]
  },
  {
   "cell_type": "code",
   "execution_count": 286,
   "id": "4fa25e87",
   "metadata": {
    "execution": {
     "iopub.execute_input": "2022-07-14T14:03:43.852184Z",
     "iopub.status.busy": "2022-07-14T14:03:43.851436Z",
     "iopub.status.idle": "2022-07-14T14:03:43.866149Z",
     "shell.execute_reply": "2022-07-14T14:03:43.864891Z"
    },
    "papermill": {
     "duration": 0.040197,
     "end_time": "2022-07-14T14:03:43.868986",
     "exception": false,
     "start_time": "2022-07-14T14:03:43.828789",
     "status": "completed"
    },
    "tags": []
   },
   "outputs": [],
   "source": [
    "defective_op = df[df['Status'] == 'Defective']['Operator'].unique()\n",
    "defective_parts = df[df['Status'] == 'Defective']['Operator'].value_counts()\n",
    "defective_total = df['Operator'].value_counts()\n",
    "defective_comparision = (defective_parts/defective_total)[defective_op]"
   ]
  },
  {
   "cell_type": "code",
   "execution_count": 287,
   "id": "25bbcb35",
   "metadata": {
    "execution": {
     "iopub.execute_input": "2022-07-14T14:03:43.912032Z",
     "iopub.status.busy": "2022-07-14T14:03:43.911655Z",
     "iopub.status.idle": "2022-07-14T14:03:44.112449Z",
     "shell.execute_reply": "2022-07-14T14:03:44.111297Z"
    },
    "papermill": {
     "duration": 0.225044,
     "end_time": "2022-07-14T14:03:44.114993",
     "exception": false,
     "start_time": "2022-07-14T14:03:43.889949",
     "status": "completed"
    },
    "tags": []
   },
   "outputs": [
    {
     "data": {
      "text/plain": [
       "<AxesSubplot:ylabel='Operator'>"
      ]
     },
     "execution_count": 287,
     "metadata": {},
     "output_type": "execute_result"
    },
    {
     "data": {
      "image/png": "[encoded data removed]",
      "text/plain": [
       "<Figure size 432x288 with 1 Axes>"
      ]
     },
     "metadata": {},
     "output_type": "display_data"
    }
   ],
   "source": [
    "sns.barplot(x=defective_op, y=defective_comparision)"
   ]
  },
  {
   "cell_type": "markdown",
   "id": "1f3df347",
   "metadata": {
    "papermill": {
     "duration": 0.020149,
     "end_time": "2022-07-14T14:03:44.155642",
     "exception": false,
     "start_time": "2022-07-14T14:03:44.135493",
     "status": "completed"
    },
    "tags": []
   },
   "source": [
    "Op-5錯誤地製造了25%的零件Op-3的錯誤率也超過了 25%。\n",
    "應考慮對這些操作員進行培訓。"
   ]
  },
  {
   "cell_type": "code",
   "execution_count": 288,
   "id": "ae174c60",
   "metadata": {
    "execution": {
     "iopub.execute_input": "2022-07-14T14:03:44.200438Z",
     "iopub.status.busy": "2022-07-14T14:03:44.200026Z",
     "iopub.status.idle": "2022-07-14T14:03:44.451579Z",
     "shell.execute_reply": "2022-07-14T14:03:44.450690Z"
    },
    "papermill": {
     "duration": 0.277027,
     "end_time": "2022-07-14T14:03:44.453843",
     "exception": false,
     "start_time": "2022-07-14T14:03:44.176816",
     "status": "completed"
    },
    "tags": []
   },
   "outputs": [
    {
     "data": {
      "text/plain": [
       "<AxesSubplot:>"
      ]
     },
     "execution_count": 288,
     "metadata": {},
     "output_type": "execute_result"
    },
    {
     "data": {
      "image/png": "[encoded data removed]",
      "text/plain": [
       "<Figure size 432x288 with 2 Axes>"
      ]
     },
     "metadata": {},
     "output_type": "display_data"
    }
   ],
   "source": [
    "#原始數據的測量並不影響產品的相關性\n",
    "sns.heatmap(df.corr(), annot=True, cmap='viridis')"
   ]
  },
  {
   "cell_type": "code",
   "execution_count": 289,
   "id": "a24ff44e",
   "metadata": {
    "execution": {
     "iopub.execute_input": "2022-07-14T14:03:44.542774Z",
     "iopub.status.busy": "2022-07-14T14:03:44.541489Z",
     "iopub.status.idle": "2022-07-14T14:03:44.548400Z",
     "shell.execute_reply": "2022-07-14T14:03:44.547380Z"
    },
    "papermill": {
     "duration": 0.03293,
     "end_time": "2022-07-14T14:03:44.550780",
     "exception": false,
     "start_time": "2022-07-14T14:03:44.517850",
     "status": "completed"
    },
    "tags": []
   },
   "outputs": [],
   "source": [
    "meanL = df['Length'].mean() #99.76914\n",
    "meanW = df['Width'].mean() #49.932880000000004\n",
    "meanH = df['Height'].mean() #20.29322"
   ]
  },
  {
   "cell_type": "markdown",
   "id": "dc29c9e5",
   "metadata": {
    "papermill": {
     "duration": 0.020691,
     "end_time": "2022-07-14T14:03:44.635026",
     "exception": false,
     "start_time": "2022-07-14T14:03:44.614335",
     "status": "completed"
    },
    "tags": []
   },
   "source": [
    "生產中有 4% 的不良率，本研究假設決定隨機測試20個零件，若有 2 個或更少的不良品，將接受這批貨。"
   ]
  },
  {
   "cell_type": "code",
   "execution_count": 290,
   "id": "80ac208f",
   "metadata": {
    "execution": {
     "iopub.execute_input": "2022-07-14T14:03:44.680745Z",
     "iopub.status.busy": "2022-07-14T14:03:44.679853Z",
     "iopub.status.idle": "2022-07-14T14:03:44.687168Z",
     "shell.execute_reply": "2022-07-14T14:03:44.685918Z"
    },
    "papermill": {
     "duration": 0.033929,
     "end_time": "2022-07-14T14:03:44.690156",
     "exception": false,
     "start_time": "2022-07-14T14:03:44.656227",
     "status": "completed"
    },
    "tags": []
   },
   "outputs": [],
   "source": [
    "two_rejections = round(100 * binom.sf(2, 20, 0.04),2)\n",
    "x_ax = np.arange(0, 21)\n",
    "y_ax = binom.pmf(x_ax, 20, 0.04)\n",
    "y_cumulative = binom.cdf(x_ax, 20, 0.04)"
   ]
  },
  {
   "cell_type": "code",
   "execution_count": 291,
   "id": "b7b8121e",
   "metadata": {
    "execution": {
     "iopub.execute_input": "2022-07-14T14:03:44.736051Z",
     "iopub.status.busy": "2022-07-14T14:03:44.735233Z",
     "iopub.status.idle": "2022-07-14T14:03:44.741757Z",
     "shell.execute_reply": "2022-07-14T14:03:44.740619Z"
    },
    "papermill": {
     "duration": 0.032528,
     "end_time": "2022-07-14T14:03:44.744072",
     "exception": false,
     "start_time": "2022-07-14T14:03:44.711544",
     "status": "completed"
    },
    "tags": []
   },
   "outputs": [
    {
     "name": "stdout",
     "output_type": "stream",
     "text": [
      "拒絕這批貨的機率: 4.39%\n"
     ]
    }
   ],
   "source": [
    "print(f'拒絕這批貨的機率: {two_rejections}%')"
   ]
  },
  {
   "cell_type": "code",
   "execution_count": 292,
   "id": "72ead791",
   "metadata": {
    "execution": {
     "iopub.execute_input": "2022-07-14T14:03:44.790104Z",
     "iopub.status.busy": "2022-07-14T14:03:44.789427Z",
     "iopub.status.idle": "2022-07-14T14:03:45.147011Z",
     "shell.execute_reply": "2022-07-14T14:03:45.145805Z"
    },
    "papermill": {
     "duration": 0.384105,
     "end_time": "2022-07-14T14:03:45.149557",
     "exception": false,
     "start_time": "2022-07-14T14:03:44.765452",
     "status": "completed"
    },
    "tags": []
   },
   "outputs": [
    {
     "data": {
      "text/plain": [
       "<AxesSubplot:>"
      ]
     },
     "execution_count": 292,
     "metadata": {},
     "output_type": "execute_result"
    },
    {
     "data": {
      "image/png": "[encoded data removed]",
      "text/plain": [
       "<Figure size 432x288 with 1 Axes>"
      ]
     },
     "metadata": {},
     "output_type": "display_data"
    }
   ],
   "source": [
    "#每個樣本大約有45%的機率沒有不良品\n",
    "#每個樣本大約有35%的機率只有1個不良品，\n",
    "#每個樣本大約有15%的機率2個不良品\n",
    "sns.barplot(x=x_ax, y=y_ax)"
   ]
  },
  {
   "cell_type": "markdown",
   "id": "184add97",
   "metadata": {
    "papermill": {
     "duration": 0.02112,
     "end_time": "2022-07-14T14:03:45.593808",
     "exception": false,
     "start_time": "2022-07-14T14:03:45.572688",
     "status": "completed"
    },
    "tags": []
   },
   "source": [
    "資料前處理"
   ]
  },
  {
   "cell_type": "code",
   "execution_count": 293,
   "id": "3fb8dc50",
   "metadata": {
    "execution": {
     "iopub.execute_input": "2022-07-14T14:03:45.682631Z",
     "iopub.status.busy": "2022-07-14T14:03:45.681906Z",
     "iopub.status.idle": "2022-07-14T14:03:45.690365Z",
     "shell.execute_reply": "2022-07-14T14:03:45.689457Z"
    },
    "papermill": {
     "duration": 0.034333,
     "end_time": "2022-07-14T14:03:45.692657",
     "exception": false,
     "start_time": "2022-07-14T14:03:45.658324",
     "status": "completed"
    },
    "tags": []
   },
   "outputs": [
    {
     "data": {
      "text/plain": [
       "Length      0\n",
       "Width       0\n",
       "Height      0\n",
       "Operator    0\n",
       "Status      0\n",
       "dtype: int64"
      ]
     },
     "execution_count": 293,
     "metadata": {},
     "output_type": "execute_result"
    }
   ],
   "source": [
    "df.isnull().sum()"
   ]
  },
  {
   "cell_type": "code",
   "execution_count": 294,
   "id": "981a01eb",
   "metadata": {
    "execution": {
     "iopub.execute_input": "2022-07-14T14:03:45.783122Z",
     "iopub.status.busy": "2022-07-14T14:03:45.782457Z",
     "iopub.status.idle": "2022-07-14T14:03:45.794973Z",
     "shell.execute_reply": "2022-07-14T14:03:45.793363Z"
    },
    "papermill": {
     "duration": 0.039793,
     "end_time": "2022-07-14T14:03:45.797943",
     "exception": false,
     "start_time": "2022-07-14T14:03:45.758150",
     "status": "completed"
    },
    "tags": []
   },
   "outputs": [
    {
     "name": "stdout",
     "output_type": "stream",
     "text": [
      "<class 'pandas.core.frame.DataFrame'>\n",
      "RangeIndex: 500 entries, 0 to 499\n",
      "Data columns (total 5 columns):\n",
      " #   Column    Non-Null Count  Dtype  \n",
      "---  ------    --------------  -----  \n",
      " 0   Length    500 non-null    float64\n",
      " 1   Width     500 non-null    float64\n",
      " 2   Height    500 non-null    float64\n",
      " 3   Operator  500 non-null    object \n",
      " 4   Status    500 non-null    object \n",
      "dtypes: float64(3), object(2)\n",
      "memory usage: 19.7+ KB\n"
     ]
    }
   ],
   "source": [
    "df.info()"
   ]
  },
  {
   "cell_type": "code",
   "execution_count": 295,
   "id": "50c04d0b",
   "metadata": {
    "execution": {
     "iopub.execute_input": "2022-07-14T14:03:45.844012Z",
     "iopub.status.busy": "2022-07-14T14:03:45.843299Z",
     "iopub.status.idle": "2022-07-14T14:03:45.850089Z",
     "shell.execute_reply": "2022-07-14T14:03:45.848925Z"
    },
    "papermill": {
     "duration": 0.03267,
     "end_time": "2022-07-14T14:03:45.852701",
     "exception": false,
     "start_time": "2022-07-14T14:03:45.820031",
     "status": "completed"
    },
    "tags": []
   },
   "outputs": [],
   "source": [
    "df = df.drop('Operator', axis=1)\n",
    "categorical = [\"Status\"]"
   ]
  },
  {
   "cell_type": "code",
   "execution_count": 296,
   "id": "b261b09c",
   "metadata": {
    "execution": {
     "iopub.execute_input": "2022-07-14T14:03:45.900149Z",
     "iopub.status.busy": "2022-07-14T14:03:45.898759Z",
     "iopub.status.idle": "2022-07-14T14:03:45.908277Z",
     "shell.execute_reply": "2022-07-14T14:03:45.907019Z"
    },
    "papermill": {
     "duration": 0.035234,
     "end_time": "2022-07-14T14:03:45.910973",
     "exception": false,
     "start_time": "2022-07-14T14:03:45.875739",
     "status": "completed"
    },
    "tags": []
   },
   "outputs": [],
   "source": [
    "df_final = pd.get_dummies(df, columns=categorical, drop_first=True)"
   ]
  },
  {
   "cell_type": "code",
   "execution_count": 297,
   "id": "a44ea7dc",
   "metadata": {
    "execution": {
     "iopub.execute_input": "2022-07-14T14:03:45.959809Z",
     "iopub.status.busy": "2022-07-14T14:03:45.959394Z",
     "iopub.status.idle": "2022-07-14T14:03:45.978705Z",
     "shell.execute_reply": "2022-07-14T14:03:45.977541Z"
    },
    "papermill": {
     "duration": 0.048064,
     "end_time": "2022-07-14T14:03:45.981226",
     "exception": false,
     "start_time": "2022-07-14T14:03:45.933162",
     "status": "completed"
    },
    "tags": []
   },
   "outputs": [
    {
     "data": {
      "text/html": [
       "<div>\n",
       "<style scoped>\n",
       "    .dataframe tbody tr th:only-of-type {\n",
       "        vertical-align: middle;\n",
       "    }\n",
       "\n",
       "    .dataframe tbody tr th {\n",
       "        vertical-align: top;\n",
       "    }\n",
       "\n",
       "    .dataframe thead th {\n",
       "        text-align: right;\n",
       "    }\n",
       "</style>\n",
       "<table border=\"1\" class=\"dataframe\">\n",
       "  <thead>\n",
       "    <tr style=\"text-align: right;\">\n",
       "      <th></th>\n",
       "      <th>Length</th>\n",
       "      <th>Width</th>\n",
       "      <th>Height</th>\n",
       "      <th>Status_Perfect</th>\n",
       "    </tr>\n",
       "  </thead>\n",
       "  <tbody>\n",
       "    <tr>\n",
       "      <th>0</th>\n",
       "      <td>102.67</td>\n",
       "      <td>49.53</td>\n",
       "      <td>19.69</td>\n",
       "      <td>1</td>\n",
       "    </tr>\n",
       "    <tr>\n",
       "      <th>1</th>\n",
       "      <td>102.50</td>\n",
       "      <td>51.42</td>\n",
       "      <td>19.63</td>\n",
       "      <td>1</td>\n",
       "    </tr>\n",
       "    <tr>\n",
       "      <th>2</th>\n",
       "      <td>95.37</td>\n",
       "      <td>52.25</td>\n",
       "      <td>21.51</td>\n",
       "      <td>1</td>\n",
       "    </tr>\n",
       "    <tr>\n",
       "      <th>3</th>\n",
       "      <td>94.77</td>\n",
       "      <td>49.24</td>\n",
       "      <td>18.60</td>\n",
       "      <td>1</td>\n",
       "    </tr>\n",
       "    <tr>\n",
       "      <th>4</th>\n",
       "      <td>104.26</td>\n",
       "      <td>47.90</td>\n",
       "      <td>19.46</td>\n",
       "      <td>1</td>\n",
       "    </tr>\n",
       "    <tr>\n",
       "      <th>...</th>\n",
       "      <td>...</td>\n",
       "      <td>...</td>\n",
       "      <td>...</td>\n",
       "      <td>...</td>\n",
       "    </tr>\n",
       "    <tr>\n",
       "      <th>495</th>\n",
       "      <td>101.24</td>\n",
       "      <td>49.03</td>\n",
       "      <td>20.96</td>\n",
       "      <td>1</td>\n",
       "    </tr>\n",
       "    <tr>\n",
       "      <th>496</th>\n",
       "      <td>98.37</td>\n",
       "      <td>52.12</td>\n",
       "      <td>19.68</td>\n",
       "      <td>1</td>\n",
       "    </tr>\n",
       "    <tr>\n",
       "      <th>497</th>\n",
       "      <td>96.49</td>\n",
       "      <td>48.78</td>\n",
       "      <td>19.19</td>\n",
       "      <td>1</td>\n",
       "    </tr>\n",
       "    <tr>\n",
       "      <th>498</th>\n",
       "      <td>94.16</td>\n",
       "      <td>48.39</td>\n",
       "      <td>21.60</td>\n",
       "      <td>1</td>\n",
       "    </tr>\n",
       "    <tr>\n",
       "      <th>499</th>\n",
       "      <td>102.35</td>\n",
       "      <td>51.24</td>\n",
       "      <td>21.47</td>\n",
       "      <td>1</td>\n",
       "    </tr>\n",
       "  </tbody>\n",
       "</table>\n",
       "<p>500 rows × 4 columns</p>\n",
       "</div>"
      ],
      "text/plain": [
       "     Length  Width  Height  Status_Perfect\n",
       "0    102.67  49.53   19.69               1\n",
       "1    102.50  51.42   19.63               1\n",
       "2     95.37  52.25   21.51               1\n",
       "3     94.77  49.24   18.60               1\n",
       "4    104.26  47.90   19.46               1\n",
       "..      ...    ...     ...             ...\n",
       "495  101.24  49.03   20.96               1\n",
       "496   98.37  52.12   19.68               1\n",
       "497   96.49  48.78   19.19               1\n",
       "498   94.16  48.39   21.60               1\n",
       "499  102.35  51.24   21.47               1\n",
       "\n",
       "[500 rows x 4 columns]"
      ]
     },
     "execution_count": 297,
     "metadata": {},
     "output_type": "execute_result"
    }
   ],
   "source": [
    "df_final"
   ]
  },
  {
   "cell_type": "markdown",
   "id": "1e9b0808",
   "metadata": {
    "papermill": {
     "duration": 0.027968,
     "end_time": "2022-07-14T14:03:46.033237",
     "exception": false,
     "start_time": "2022-07-14T14:03:46.005269",
     "status": "completed"
    },
    "tags": []
   },
   "source": [
    "資料切割"
   ]
  },
  {
   "cell_type": "code",
   "execution_count": 298,
   "id": "0c7a3dec",
   "metadata": {
    "execution": {
     "iopub.execute_input": "2022-07-14T14:03:46.090966Z",
     "iopub.status.busy": "2022-07-14T14:03:46.090161Z",
     "iopub.status.idle": "2022-07-14T14:03:46.096753Z",
     "shell.execute_reply": "2022-07-14T14:03:46.095801Z"
    },
    "papermill": {
     "duration": 0.036018,
     "end_time": "2022-07-14T14:03:46.099295",
     "exception": false,
     "start_time": "2022-07-14T14:03:46.063277",
     "status": "completed"
    },
    "tags": []
   },
   "outputs": [],
   "source": [
    "X = df_final.drop('Status_Perfect', axis=1).values\n",
    "y = df_final[\"Status_Perfect\"].values"
   ]
  },
  {
   "cell_type": "code",
   "execution_count": 299,
   "id": "4bb4db7d",
   "metadata": {
    "execution": {
     "iopub.execute_input": "2022-07-14T14:03:46.145572Z",
     "iopub.status.busy": "2022-07-14T14:03:46.144829Z",
     "iopub.status.idle": "2022-07-14T14:03:46.151195Z",
     "shell.execute_reply": "2022-07-14T14:03:46.150261Z"
    },
    "papermill": {
     "duration": 0.03241,
     "end_time": "2022-07-14T14:03:46.153708",
     "exception": false,
     "start_time": "2022-07-14T14:03:46.121298",
     "status": "completed"
    },
    "tags": []
   },
   "outputs": [],
   "source": [
    "X_train, X_test, y_train, y_test = train_test_split(X, y, test_size=0.5)"
   ]
  },
  {
   "cell_type": "markdown",
   "id": "4a16228d",
   "metadata": {
    "papermill": {
     "duration": 0.022362,
     "end_time": "2022-07-14T14:03:46.198484",
     "exception": false,
     "start_time": "2022-07-14T14:03:46.176122",
     "status": "completed"
    },
    "tags": []
   },
   "source": [
    "最大最小正規化"
   ]
  },
  {
   "cell_type": "code",
   "execution_count": 300,
   "id": "873df716",
   "metadata": {
    "execution": {
     "iopub.execute_input": "2022-07-14T14:03:46.246074Z",
     "iopub.status.busy": "2022-07-14T14:03:46.245257Z",
     "iopub.status.idle": "2022-07-14T14:03:46.250398Z",
     "shell.execute_reply": "2022-07-14T14:03:46.249591Z"
    },
    "papermill": {
     "duration": 0.031783,
     "end_time": "2022-07-14T14:03:46.252820",
     "exception": false,
     "start_time": "2022-07-14T14:03:46.221037",
     "status": "completed"
    },
    "tags": []
   },
   "outputs": [],
   "source": [
    "scaler = MinMaxScaler()"
   ]
  },
  {
   "cell_type": "code",
   "execution_count": 301,
   "id": "8eae05f0",
   "metadata": {
    "execution": {
     "iopub.execute_input": "2022-07-14T14:03:46.299702Z",
     "iopub.status.busy": "2022-07-14T14:03:46.298952Z",
     "iopub.status.idle": "2022-07-14T14:03:46.304919Z",
     "shell.execute_reply": "2022-07-14T14:03:46.303967Z"
    },
    "papermill": {
     "duration": 0.031817,
     "end_time": "2022-07-14T14:03:46.307196",
     "exception": false,
     "start_time": "2022-07-14T14:03:46.275379",
     "status": "completed"
    },
    "tags": []
   },
   "outputs": [],
   "source": [
    "X_train = scaler.fit_transform(X_train)\n",
    "X_test = scaler.transform(X_test)"
   ]
  },
  {
   "cell_type": "markdown",
   "id": "e2aa2a04",
   "metadata": {
    "papermill": {
     "duration": 0.022245,
     "end_time": "2022-07-14T14:03:46.351279",
     "exception": false,
     "start_time": "2022-07-14T14:03:46.329034",
     "status": "completed"
    },
    "tags": []
   },
   "source": [
    "建立機器學習模型並進行模型績效評估"
   ]
  },
  {
   "cell_type": "code",
   "execution_count": 302,
   "id": "7840ad52",
   "metadata": {},
   "outputs": [],
   "source": [
    "#決策樹\n",
    "dt=DecisionTreeClassifier()\n",
    "dt=dt.fit(X_train,y_train)\n",
    "y_pred_dt=dt.predict(X_test)"
   ]
  },
  {
   "cell_type": "code",
   "execution_count": 303,
   "id": "7a7b4674",
   "metadata": {
    "execution": {
     "iopub.execute_input": "2022-07-14T14:03:50.587302Z",
     "iopub.status.busy": "2022-07-14T14:03:50.586114Z",
     "iopub.status.idle": "2022-07-14T14:03:50.600885Z",
     "shell.execute_reply": "2022-07-14T14:03:50.599581Z"
    },
    "papermill": {
     "duration": 0.0463,
     "end_time": "2022-07-14T14:03:50.603172",
     "exception": false,
     "start_time": "2022-07-14T14:03:50.556872",
     "status": "completed"
    },
    "tags": []
   },
   "outputs": [
    {
     "name": "stdout",
     "output_type": "stream",
     "text": [
      "              precision    recall  f1-score   support\n",
      "\n",
      "           0     1.0000    0.7000    0.8235        10\n",
      "           1     0.9877    1.0000    0.9938       240\n",
      "\n",
      "    accuracy                         0.9880       250\n",
      "   macro avg     0.9938    0.8500    0.9087       250\n",
      "weighted avg     0.9881    0.9880    0.9870       250\n",
      "\n",
      "[[  7   3]\n",
      " [  0 240]]\n"
     ]
    }
   ],
   "source": [
    "print(classification_report(y_test,y_pred_dt,digits=4))\n",
    "print(confusion_matrix(y_test, y_pred_dt))"
   ]
  },
  {
   "cell_type": "code",
   "execution_count": 304,
   "id": "86c7d01f",
   "metadata": {},
   "outputs": [],
   "source": [
    "#隨機森林\n",
    "rf=RandomForestClassifier()\n",
    "rf=rf.fit(X_train,y_train)\n",
    "y_pred_rf=rf.predict(X_test)"
   ]
  },
  {
   "cell_type": "code",
   "execution_count": 305,
   "id": "b110c6ed",
   "metadata": {},
   "outputs": [
    {
     "name": "stdout",
     "output_type": "stream",
     "text": [
      "              precision    recall  f1-score   support\n",
      "\n",
      "           0     1.0000    0.6000    0.7500        10\n",
      "           1     0.9836    1.0000    0.9917       240\n",
      "\n",
      "    accuracy                         0.9840       250\n",
      "   macro avg     0.9918    0.8000    0.8709       250\n",
      "weighted avg     0.9843    0.9840    0.9821       250\n",
      "\n",
      "[[  6   4]\n",
      " [  0 240]]\n"
     ]
    }
   ],
   "source": [
    "print(classification_report(y_test,y_pred_rf,digits=4))\n",
    "print(confusion_matrix(y_test, y_pred_rf))"
   ]
  },
  {
   "cell_type": "code",
   "execution_count": 306,
   "id": "94454bd4",
   "metadata": {},
   "outputs": [],
   "source": [
    "#支持向量機\n",
    "svc=SVC(probability=True)\n",
    "svc=svc.fit(X_train,y_train)\n",
    "y_pred_svc=svc.predict(X_test)"
   ]
  },
  {
   "cell_type": "code",
   "execution_count": 307,
   "id": "fe28f3e0",
   "metadata": {},
   "outputs": [
    {
     "name": "stdout",
     "output_type": "stream",
     "text": [
      "              precision    recall  f1-score   support\n",
      "\n",
      "           0     1.0000    0.4000    0.5714        10\n",
      "           1     0.9756    1.0000    0.9877       240\n",
      "\n",
      "    accuracy                         0.9760       250\n",
      "   macro avg     0.9878    0.7000    0.7795       250\n",
      "weighted avg     0.9766    0.9760    0.9710       250\n",
      "\n",
      "[[  4   6]\n",
      " [  0 240]]\n"
     ]
    }
   ],
   "source": [
    "print(classification_report(y_test,y_pred_svc,digits=4))\n",
    "print(confusion_matrix(y_test, y_pred_svc))"
   ]
  },
  {
   "cell_type": "code",
   "execution_count": 308,
   "id": "4526bbae",
   "metadata": {},
   "outputs": [
    {
     "name": "stdout",
     "output_type": "stream",
     "text": [
      "[10:53:25] WARNING: C:/Users/Administrator/workspace/xgboost-win64_release_1.5.0/src/learner.cc:1115: Starting in XGBoost 1.3.0, the default evaluation metric used with the objective 'binary:logistic' was changed from 'error' to 'logloss'. Explicitly set eval_metric if you'd like to restore the old behavior.\n"
     ]
    },
    {
     "name": "stderr",
     "output_type": "stream",
     "text": [
      "c:\\Users\\ASUS\\AppData\\Local\\Programs\\Python\\Python39\\lib\\site-packages\\xgboost\\sklearn.py:1224: UserWarning: The use of label encoder in XGBClassifier is deprecated and will be removed in a future release. To remove this warning, do the following: 1) Pass option use_label_encoder=False when constructing XGBClassifier object; and 2) Encode your labels (y) as integers starting with 0, i.e. 0, 1, 2, ..., [num_class - 1].\n",
      "  warnings.warn(label_encoder_deprecation_msg, UserWarning)\n"
     ]
    }
   ],
   "source": [
    "#極限梯度提升\n",
    "xgb=XGBClassifier()\n",
    "xgb=xgb.fit(X_train,y_train)\n",
    "y_pred_xgb=xgb.predict(X_test)"
   ]
  },
  {
   "cell_type": "code",
   "execution_count": 309,
   "id": "24afa4d1",
   "metadata": {},
   "outputs": [
    {
     "name": "stdout",
     "output_type": "stream",
     "text": [
      "              precision    recall  f1-score   support\n",
      "\n",
      "           0     0.8571    0.6000    0.7059        10\n",
      "           1     0.9835    0.9958    0.9896       240\n",
      "\n",
      "    accuracy                         0.9800       250\n",
      "   macro avg     0.9203    0.7979    0.8478       250\n",
      "weighted avg     0.9785    0.9800    0.9783       250\n",
      "\n",
      "[[  6   4]\n",
      " [  1 239]]\n"
     ]
    }
   ],
   "source": [
    "print(classification_report(y_test,y_pred_xgb,digits=4))\n",
    "print(confusion_matrix(y_test, y_pred_xgb))"
   ]
  },
  {
   "cell_type": "code",
   "execution_count": 310,
   "id": "6de7c8fe",
   "metadata": {},
   "outputs": [
    {
     "data": {
      "image/png": "[encoded data removed]",
      "text/plain": [
       "<Figure size 432x288 with 1 Axes>"
      ]
     },
     "metadata": {},
     "output_type": "display_data"
    }
   ],
   "source": [
    "#繪製決策樹分類結果的作業特性曲線\n",
    "from sklearn.metrics import roc_curve,auc\n",
    "prob = dt.predict_proba(X_test)\n",
    "prob = prob[:, 1]\n",
    "fper, tper, thresholds = roc_curve(y_test, prob)\n",
    "auc1=auc(fper,tper)\n",
    "plt.title('Receiver Operating Characteristic')\n",
    "plt.plot(fper, tper, color = 'orange', label = 'ROC Curve(AUC = %0.2f)' % auc1)\n",
    "plt.legend(loc = 'lower right')\n",
    "plt.plot([0, 1], [0, 1],'r--')\n",
    "plt.xlim([0, 1])\n",
    "plt.ylim([0, 1])\n",
    "plt.ylabel('True Positive Rate')\n",
    "plt.xlabel('False Positive Rate')\n",
    "plt.show()"
   ]
  },
  {
   "cell_type": "code",
   "execution_count": 311,
   "id": "3def74b5",
   "metadata": {},
   "outputs": [
    {
     "data": {
      "image/png": "[encoded data removed]",
      "text/plain": [
       "<Figure size 432x288 with 1 Axes>"
      ]
     },
     "metadata": {},
     "output_type": "display_data"
    }
   ],
   "source": [
    "#繪製隨機森林分類結果的作業特性曲線\n",
    "from sklearn.metrics import roc_curve,auc\n",
    "prob = rf.predict_proba(X_test)\n",
    "prob = prob[:, 1]\n",
    "fper, tper, thresholds = roc_curve(y_test, prob)\n",
    "auc1=auc(fper,tper)\n",
    "plt.title('Receiver Operating Characteristic')\n",
    "plt.plot(fper, tper, color = 'orange', label = 'ROC Curve(AUC = %0.2f)' % auc1)\n",
    "plt.legend(loc = 'lower right')\n",
    "plt.plot([0, 1], [0, 1],'r--')\n",
    "plt.xlim([0, 1])\n",
    "plt.ylim([0, 1])\n",
    "plt.ylabel('True Positive Rate')\n",
    "plt.xlabel('False Positive Rate')\n",
    "plt.show()  "
   ]
  },
  {
   "cell_type": "code",
   "execution_count": 312,
   "id": "cf0c8f3d",
   "metadata": {},
   "outputs": [
    {
     "data": {
      "image/png": "[encoded data removed]",
      "text/plain": [
       "<Figure size 432x288 with 1 Axes>"
      ]
     },
     "metadata": {},
     "output_type": "display_data"
    }
   ],
   "source": [
    "#繪製支持向量機結果的作業特性曲線\n",
    "from sklearn.metrics import roc_curve,auc\n",
    "prob = svc.predict_proba(X_test)\n",
    "prob = prob[:, 1]\n",
    "fper, tper, thresholds = roc_curve(y_test, prob)\n",
    "auc1=auc(fper,tper)\n",
    "plt.title('Receiver Operating Characteristic')\n",
    "plt.plot(fper, tper, color = 'orange', label = 'ROC Curve(AUC = %0.2f)' % auc1)\n",
    "plt.legend(loc = 'lower right')\n",
    "plt.plot([0, 1], [0, 1],'r--')\n",
    "plt.xlim([0, 1])\n",
    "plt.ylim([0, 1])\n",
    "plt.ylabel('True Positive Rate')\n",
    "plt.xlabel('False Positive Rate')\n",
    "plt.show()"
   ]
  },
  {
   "cell_type": "code",
   "execution_count": 313,
   "id": "7121a868",
   "metadata": {},
   "outputs": [
    {
     "data": {
      "image/png": "[encoded data removed]",
      "text/plain": [
       "<Figure size 432x288 with 1 Axes>"
      ]
     },
     "metadata": {},
     "output_type": "display_data"
    }
   ],
   "source": [
    "#繪製極限梯度提升分類結果的作業特性曲線\n",
    "from sklearn.metrics import roc_curve,auc\n",
    "prob = xgb.predict_proba(X_test)\n",
    "prob = prob[:, 1]\n",
    "fper, tper, thresholds = roc_curve(y_test, prob)\n",
    "auc1=auc(fper,tper)\n",
    "plt.title('Receiver Operating Characteristic')\n",
    "plt.plot(fper, tper, color = 'orange', label = 'ROC Curve(AUC = %0.2f)' % auc1)\n",
    "plt.legend(loc = 'lower right')\n",
    "plt.plot([0, 1], [0, 1],'r--')\n",
    "plt.xlim([0, 1])\n",
    "plt.ylim([0, 1])\n",
    "plt.ylabel('True Positive Rate')\n",
    "plt.xlabel('False Positive Rate')\n",
    "plt.show()"
   ]
  },
  {
   "cell_type": "code",
   "execution_count": 314,
   "id": "43c64a12",
   "metadata": {},
   "outputs": [],
   "source": [
    "#繪製混淆矩陣\n",
    "def plot_confusion_matrix(confusion_mat):\n",
    "    plt.imshow(confusion_mat,interpolation='nearest',cmap=plt.cm.GnBu)\n",
    "    plt.colorbar()\n",
    "    for x in range(len(confusion_mat)):\n",
    "        for y in range(len(confusion_mat)):\n",
    "            plt.annotate(confusion_mat[x, y], xy=(x, y), horizontalalignment='center', verticalalignment='center')\n",
    "    plt.title('Confusion Matrix')    \n",
    "    plt.ylabel('True label')         \n",
    "    plt.xlabel('Predicted label')     \n",
    "    tick_marks = np.arange(2)\n",
    "    plt.xticks(tick_marks, tick_marks)\n",
    "    plt.yticks(tick_marks, tick_marks)\n",
    "    plt.show()"
   ]
  },
  {
   "cell_type": "code",
   "execution_count": 315,
   "id": "b0bfbcdc",
   "metadata": {},
   "outputs": [
    {
     "data": {
      "image/png": "[encoded data removed]",
      "text/plain": [
       "<Figure size 432x288 with 2 Axes>"
      ]
     },
     "metadata": {},
     "output_type": "display_data"
    }
   ],
   "source": [
    "from sklearn import metrics\n",
    "confusion_mat = metrics.confusion_matrix(y_test, y_pred_rf, labels=None, sample_weight=None)\n",
    "plot_confusion_matrix(confusion_mat)"
   ]
  }
 ],
 "metadata": {
  "kernelspec": {
   "display_name": "Python 3.9.6 64-bit",
   "language": "python",
   "name": "python3"
  },
  "language_info": {
   "codemirror_mode": {
    "name": "ipython",
    "version": 3
   },
   "file_extension": ".py",
   "mimetype": "text/x-python",
   "name": "python",
   "nbconvert_exporter": "python",
   "pygments_lexer": "ipython3",
   "version": "3.9.6"
  },
  "papermill": {
   "default_parameters": {},
   "duration": 37.861176,
   "end_time": "2022-07-14T14:03:53.500990",
   "environment_variables": {},
   "exception": null,
   "input_path": "__notebook__.ipynb",
   "output_path": "__notebook__.ipynb",
   "parameters": {},
   "start_time": "2022-07-14T14:03:15.639814",
   "version": "2.3.4"
  },
  "vscode": {
   "interpreter": {
    "hash": "14958d3aee5f1cad06795f787e54b96185c25fb40dfec723a5be941f3a531b8c"
   }
  }
 },
 "nbformat": 4,
 "nbformat_minor": 5
}
